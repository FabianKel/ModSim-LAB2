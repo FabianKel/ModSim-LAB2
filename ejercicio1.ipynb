{
 "cells": [
  {
   "cell_type": "markdown",
   "id": "91d7b292",
   "metadata": {},
   "source": [
    "# **Ejercicio 1 - Retardos de primer orden y sistemas lineales**"
   ]
  },
  {
   "cell_type": "markdown",
   "id": "8bf7f9e9",
   "metadata": {},
   "source": [
    "## **Teoría**\n",
    "\n",
    "Responda las siguientes preguntas de forma clara"
   ]
  },
  {
   "cell_type": "markdown",
   "id": "0dd8cfdd",
   "metadata": {},
   "source": [
    "\n",
    "1. **Defina un retraso de primer orden y explique sus dos formulaciones**\n"
   ]
  },
  {
   "cell_type": "markdown",
   "id": "1e8b7ae0",
   "metadata": {},
   "source": [
    "\n",
    "2. **Seguimiento de flujo (salida = stock/retardo)**"
   ]
  },
  {
   "cell_type": "markdown",
   "id": "3be8b388",
   "metadata": {},
   "source": [
    "3. **Búsqueda de objetivo (flujo = (objetivo - stock)/retardo)**"
   ]
  },
  {
   "cell_type": "markdown",
   "id": "876351dd",
   "metadata": {},
   "source": [
    "3. **Describa la condición de equilibrio (entrada = salida) y cómo los stocks se ajustan exponencialmente**"
   ]
  },
  {
   "cell_type": "markdown",
   "id": "bbb1680d",
   "metadata": {},
   "source": [
    "4. **Describa la condición de equilibrio (entrada = salida) y cómo los stocks se ajustan exponencialmente.**"
   ]
  },
  {
   "cell_type": "markdown",
   "id": "e7c222ab",
   "metadata": {},
   "source": [
    "5. **Explique por qué los sistemas lineales permiten la superposición (las soluciones se pueden sumar).**"
   ]
  },
  {
   "cell_type": "markdown",
   "id": "a6ef00d5",
   "metadata": {},
   "source": [
    "6. **Dado un stock con un valor inicial de 100, una entrada de 5/día y un retraso de 10 días:**\n",
    "\n",
    "    **a. Calcule el valor de equilibrio del stock.**\n",
    "\n",
    "    **b. Dibuje la trayectoria del stock de salida a lo largo del tiempo.**\n",
    "    \n",
    "    **c. Compare los retrasos sin memoria y los retrasos por etapas (distribuciones de Erlang). ¿Cuándo utilizaría cada uno?**"
   ]
  },
  {
   "cell_type": "markdown",
   "id": "cafd7de0",
   "metadata": {},
   "source": [
    "## **Práctica**\n",
    "\n",
    "Simular un sistema de retardo de primer orden y visualizar el equilibrio.\n",
    "Instrucciones:\n",
    "1. Cree una variable de stock a partir de 0.\n",
    "2. Establezca una entrada constante (p. ej., 10 unidades/día).\n",
    "3. Implemente la salida como stock/retraso (retraso = 5 días).\n",
    "4. Simule durante 50 días y grafique el stock y la salida a lo largo del tiempo.\n",
    "5. Opcional: Añada un cambio repentino en la entrada (p. ej., a 20 unidades/día el día 25) y observe el ajuste.\n",
    "Consideraciones\n",
    "1. Utilice un paso de tiempo (Δt) de 1 día para la integración de Euler.\n",
    "2. Etiquete los ejes y resalte los puntos de equilibrio..\n"
   ]
  },
  {
   "cell_type": "markdown",
   "id": "5f4812dd",
   "metadata": {},
   "source": [
    "## **Prompt utilizado**"
   ]
  },
  {
   "cell_type": "markdown",
   "id": "ef26cc03",
   "metadata": {},
   "source": [
    "## **Referencias**"
   ]
  }
 ],
 "metadata": {
  "language_info": {
   "name": "python"
  }
 },
 "nbformat": 4,
 "nbformat_minor": 5
}
